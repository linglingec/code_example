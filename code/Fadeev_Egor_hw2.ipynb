{
  "nbformat": 4,
  "nbformat_minor": 0,
  "metadata": {
    "kernelspec": {
      "display_name": "Python 3",
      "language": "python",
      "name": "python3"
    },
    "language_info": {
      "codemirror_mode": {
        "name": "ipython",
        "version": 3
      },
      "file_extension": ".py",
      "mimetype": "text/x-python",
      "name": "python",
      "nbconvert_exporter": "python",
      "pygments_lexer": "ipython3",
      "version": "3.7.7"
    },
    "colab": {
      "name": "Fadeev_Egor_hw2.ipynb",
      "provenance": [],
      "collapsed_sections": []
    },
    "accelerator": "GPU",
    "widgets": {
      "application/vnd.jupyter.widget-state+json": {
        "8aa34caf0b2a46549fde398993a34182": {
          "model_module": "@jupyter-widgets/controls",
          "model_name": "HBoxModel",
          "state": {
            "_view_name": "HBoxView",
            "_dom_classes": [],
            "_model_name": "HBoxModel",
            "_view_module": "@jupyter-widgets/controls",
            "_model_module_version": "1.5.0",
            "_view_count": null,
            "_view_module_version": "1.5.0",
            "box_style": "",
            "layout": "IPY_MODEL_bf49435001384b31967dff27e92e4283",
            "_model_module": "@jupyter-widgets/controls",
            "children": [
              "IPY_MODEL_f2c1627d3d044b93a40d1568fc525a2b",
              "IPY_MODEL_da27a371f3e3415cb0e0cf83e990929f"
            ]
          }
        },
        "bf49435001384b31967dff27e92e4283": {
          "model_module": "@jupyter-widgets/base",
          "model_name": "LayoutModel",
          "state": {
            "_view_name": "LayoutView",
            "grid_template_rows": null,
            "right": null,
            "justify_content": null,
            "_view_module": "@jupyter-widgets/base",
            "overflow": null,
            "_model_module_version": "1.2.0",
            "_view_count": null,
            "flex_flow": null,
            "width": null,
            "min_width": null,
            "border": null,
            "align_items": null,
            "bottom": null,
            "_model_module": "@jupyter-widgets/base",
            "top": null,
            "grid_column": null,
            "overflow_y": null,
            "overflow_x": null,
            "grid_auto_flow": null,
            "grid_area": null,
            "grid_template_columns": null,
            "flex": null,
            "_model_name": "LayoutModel",
            "justify_items": null,
            "grid_row": null,
            "max_height": null,
            "align_content": null,
            "visibility": null,
            "align_self": null,
            "height": null,
            "min_height": null,
            "padding": null,
            "grid_auto_rows": null,
            "grid_gap": null,
            "max_width": null,
            "order": null,
            "_view_module_version": "1.2.0",
            "grid_template_areas": null,
            "object_position": null,
            "object_fit": null,
            "grid_auto_columns": null,
            "margin": null,
            "display": null,
            "left": null
          }
        },
        "f2c1627d3d044b93a40d1568fc525a2b": {
          "model_module": "@jupyter-widgets/controls",
          "model_name": "FloatProgressModel",
          "state": {
            "_view_name": "ProgressView",
            "style": "IPY_MODEL_9613c812c97e45feb6d57cc60171a7d2",
            "_dom_classes": [],
            "description": "100%",
            "_model_name": "FloatProgressModel",
            "bar_style": "success",
            "max": 46827520,
            "_view_module": "@jupyter-widgets/controls",
            "_model_module_version": "1.5.0",
            "value": 46827520,
            "_view_count": null,
            "_view_module_version": "1.5.0",
            "orientation": "horizontal",
            "min": 0,
            "description_tooltip": null,
            "_model_module": "@jupyter-widgets/controls",
            "layout": "IPY_MODEL_3665755804d44bbc96d893cbd67fbc5e"
          }
        },
        "da27a371f3e3415cb0e0cf83e990929f": {
          "model_module": "@jupyter-widgets/controls",
          "model_name": "HTMLModel",
          "state": {
            "_view_name": "HTMLView",
            "style": "IPY_MODEL_304e60e5fccc4c69917345d1667d3c67",
            "_dom_classes": [],
            "description": "",
            "_model_name": "HTMLModel",
            "placeholder": "​",
            "_view_module": "@jupyter-widgets/controls",
            "_model_module_version": "1.5.0",
            "value": " 44.7M/44.7M [00:00&lt;00:00, 176MB/s]",
            "_view_count": null,
            "_view_module_version": "1.5.0",
            "description_tooltip": null,
            "_model_module": "@jupyter-widgets/controls",
            "layout": "IPY_MODEL_2629a92e6c794be0abdd868fa06f0a81"
          }
        },
        "9613c812c97e45feb6d57cc60171a7d2": {
          "model_module": "@jupyter-widgets/controls",
          "model_name": "ProgressStyleModel",
          "state": {
            "_view_name": "StyleView",
            "_model_name": "ProgressStyleModel",
            "description_width": "initial",
            "_view_module": "@jupyter-widgets/base",
            "_model_module_version": "1.5.0",
            "_view_count": null,
            "_view_module_version": "1.2.0",
            "bar_color": null,
            "_model_module": "@jupyter-widgets/controls"
          }
        },
        "3665755804d44bbc96d893cbd67fbc5e": {
          "model_module": "@jupyter-widgets/base",
          "model_name": "LayoutModel",
          "state": {
            "_view_name": "LayoutView",
            "grid_template_rows": null,
            "right": null,
            "justify_content": null,
            "_view_module": "@jupyter-widgets/base",
            "overflow": null,
            "_model_module_version": "1.2.0",
            "_view_count": null,
            "flex_flow": null,
            "width": null,
            "min_width": null,
            "border": null,
            "align_items": null,
            "bottom": null,
            "_model_module": "@jupyter-widgets/base",
            "top": null,
            "grid_column": null,
            "overflow_y": null,
            "overflow_x": null,
            "grid_auto_flow": null,
            "grid_area": null,
            "grid_template_columns": null,
            "flex": null,
            "_model_name": "LayoutModel",
            "justify_items": null,
            "grid_row": null,
            "max_height": null,
            "align_content": null,
            "visibility": null,
            "align_self": null,
            "height": null,
            "min_height": null,
            "padding": null,
            "grid_auto_rows": null,
            "grid_gap": null,
            "max_width": null,
            "order": null,
            "_view_module_version": "1.2.0",
            "grid_template_areas": null,
            "object_position": null,
            "object_fit": null,
            "grid_auto_columns": null,
            "margin": null,
            "display": null,
            "left": null
          }
        },
        "304e60e5fccc4c69917345d1667d3c67": {
          "model_module": "@jupyter-widgets/controls",
          "model_name": "DescriptionStyleModel",
          "state": {
            "_view_name": "StyleView",
            "_model_name": "DescriptionStyleModel",
            "description_width": "",
            "_view_module": "@jupyter-widgets/base",
            "_model_module_version": "1.5.0",
            "_view_count": null,
            "_view_module_version": "1.2.0",
            "_model_module": "@jupyter-widgets/controls"
          }
        },
        "2629a92e6c794be0abdd868fa06f0a81": {
          "model_module": "@jupyter-widgets/base",
          "model_name": "LayoutModel",
          "state": {
            "_view_name": "LayoutView",
            "grid_template_rows": null,
            "right": null,
            "justify_content": null,
            "_view_module": "@jupyter-widgets/base",
            "overflow": null,
            "_model_module_version": "1.2.0",
            "_view_count": null,
            "flex_flow": null,
            "width": null,
            "min_width": null,
            "border": null,
            "align_items": null,
            "bottom": null,
            "_model_module": "@jupyter-widgets/base",
            "top": null,
            "grid_column": null,
            "overflow_y": null,
            "overflow_x": null,
            "grid_auto_flow": null,
            "grid_area": null,
            "grid_template_columns": null,
            "flex": null,
            "_model_name": "LayoutModel",
            "justify_items": null,
            "grid_row": null,
            "max_height": null,
            "align_content": null,
            "visibility": null,
            "align_self": null,
            "height": null,
            "min_height": null,
            "padding": null,
            "grid_auto_rows": null,
            "grid_gap": null,
            "max_width": null,
            "order": null,
            "_view_module_version": "1.2.0",
            "grid_template_areas": null,
            "object_position": null,
            "object_fit": null,
            "grid_auto_columns": null,
            "margin": null,
            "display": null,
            "left": null
          }
        },
        "733f20b2848c41929c0c8951da124067": {
          "model_module": "@jupyter-widgets/controls",
          "model_name": "HBoxModel",
          "state": {
            "_view_name": "HBoxView",
            "_dom_classes": [],
            "_model_name": "HBoxModel",
            "_view_module": "@jupyter-widgets/controls",
            "_model_module_version": "1.5.0",
            "_view_count": null,
            "_view_module_version": "1.5.0",
            "box_style": "",
            "layout": "IPY_MODEL_ba650d7705f44556bfda8a648205c749",
            "_model_module": "@jupyter-widgets/controls",
            "children": [
              "IPY_MODEL_c9299e8f14b34a839883814a502ff8b5",
              "IPY_MODEL_cf7ae7639aff4e6a83b7b8d437104f09"
            ]
          }
        },
        "ba650d7705f44556bfda8a648205c749": {
          "model_module": "@jupyter-widgets/base",
          "model_name": "LayoutModel",
          "state": {
            "_view_name": "LayoutView",
            "grid_template_rows": null,
            "right": null,
            "justify_content": null,
            "_view_module": "@jupyter-widgets/base",
            "overflow": null,
            "_model_module_version": "1.2.0",
            "_view_count": null,
            "flex_flow": null,
            "width": null,
            "min_width": null,
            "border": null,
            "align_items": null,
            "bottom": null,
            "_model_module": "@jupyter-widgets/base",
            "top": null,
            "grid_column": null,
            "overflow_y": null,
            "overflow_x": null,
            "grid_auto_flow": null,
            "grid_area": null,
            "grid_template_columns": null,
            "flex": null,
            "_model_name": "LayoutModel",
            "justify_items": null,
            "grid_row": null,
            "max_height": null,
            "align_content": null,
            "visibility": null,
            "align_self": null,
            "height": null,
            "min_height": null,
            "padding": null,
            "grid_auto_rows": null,
            "grid_gap": null,
            "max_width": null,
            "order": null,
            "_view_module_version": "1.2.0",
            "grid_template_areas": null,
            "object_position": null,
            "object_fit": null,
            "grid_auto_columns": null,
            "margin": null,
            "display": null,
            "left": null
          }
        },
        "c9299e8f14b34a839883814a502ff8b5": {
          "model_module": "@jupyter-widgets/controls",
          "model_name": "FloatProgressModel",
          "state": {
            "_view_name": "ProgressView",
            "style": "IPY_MODEL_af9569bd23834fcfafa738562287566e",
            "_dom_classes": [],
            "description": "100%",
            "_model_name": "FloatProgressModel",
            "bar_style": "success",
            "max": 167502836,
            "_view_module": "@jupyter-widgets/controls",
            "_model_module_version": "1.5.0",
            "value": 167502836,
            "_view_count": null,
            "_view_module_version": "1.5.0",
            "orientation": "horizontal",
            "min": 0,
            "description_tooltip": null,
            "_model_module": "@jupyter-widgets/controls",
            "layout": "IPY_MODEL_e27c94bb7e2b417da52a0396c7c8d028"
          }
        },
        "cf7ae7639aff4e6a83b7b8d437104f09": {
          "model_module": "@jupyter-widgets/controls",
          "model_name": "HTMLModel",
          "state": {
            "_view_name": "HTMLView",
            "style": "IPY_MODEL_38a54d10d96c4209824e797afc31d6e5",
            "_dom_classes": [],
            "description": "",
            "_model_name": "HTMLModel",
            "placeholder": "​",
            "_view_module": "@jupyter-widgets/controls",
            "_model_module_version": "1.5.0",
            "value": " 160M/160M [00:20&lt;00:00, 7.99MB/s]",
            "_view_count": null,
            "_view_module_version": "1.5.0",
            "description_tooltip": null,
            "_model_module": "@jupyter-widgets/controls",
            "layout": "IPY_MODEL_fd9ad2527f11412e9752f7f861749481"
          }
        },
        "af9569bd23834fcfafa738562287566e": {
          "model_module": "@jupyter-widgets/controls",
          "model_name": "ProgressStyleModel",
          "state": {
            "_view_name": "StyleView",
            "_model_name": "ProgressStyleModel",
            "description_width": "initial",
            "_view_module": "@jupyter-widgets/base",
            "_model_module_version": "1.5.0",
            "_view_count": null,
            "_view_module_version": "1.2.0",
            "bar_color": null,
            "_model_module": "@jupyter-widgets/controls"
          }
        },
        "e27c94bb7e2b417da52a0396c7c8d028": {
          "model_module": "@jupyter-widgets/base",
          "model_name": "LayoutModel",
          "state": {
            "_view_name": "LayoutView",
            "grid_template_rows": null,
            "right": null,
            "justify_content": null,
            "_view_module": "@jupyter-widgets/base",
            "overflow": null,
            "_model_module_version": "1.2.0",
            "_view_count": null,
            "flex_flow": null,
            "width": null,
            "min_width": null,
            "border": null,
            "align_items": null,
            "bottom": null,
            "_model_module": "@jupyter-widgets/base",
            "top": null,
            "grid_column": null,
            "overflow_y": null,
            "overflow_x": null,
            "grid_auto_flow": null,
            "grid_area": null,
            "grid_template_columns": null,
            "flex": null,
            "_model_name": "LayoutModel",
            "justify_items": null,
            "grid_row": null,
            "max_height": null,
            "align_content": null,
            "visibility": null,
            "align_self": null,
            "height": null,
            "min_height": null,
            "padding": null,
            "grid_auto_rows": null,
            "grid_gap": null,
            "max_width": null,
            "order": null,
            "_view_module_version": "1.2.0",
            "grid_template_areas": null,
            "object_position": null,
            "object_fit": null,
            "grid_auto_columns": null,
            "margin": null,
            "display": null,
            "left": null
          }
        },
        "38a54d10d96c4209824e797afc31d6e5": {
          "model_module": "@jupyter-widgets/controls",
          "model_name": "DescriptionStyleModel",
          "state": {
            "_view_name": "StyleView",
            "_model_name": "DescriptionStyleModel",
            "description_width": "",
            "_view_module": "@jupyter-widgets/base",
            "_model_module_version": "1.5.0",
            "_view_count": null,
            "_view_module_version": "1.2.0",
            "_model_module": "@jupyter-widgets/controls"
          }
        },
        "fd9ad2527f11412e9752f7f861749481": {
          "model_module": "@jupyter-widgets/base",
          "model_name": "LayoutModel",
          "state": {
            "_view_name": "LayoutView",
            "grid_template_rows": null,
            "right": null,
            "justify_content": null,
            "_view_module": "@jupyter-widgets/base",
            "overflow": null,
            "_model_module_version": "1.2.0",
            "_view_count": null,
            "flex_flow": null,
            "width": null,
            "min_width": null,
            "border": null,
            "align_items": null,
            "bottom": null,
            "_model_module": "@jupyter-widgets/base",
            "top": null,
            "grid_column": null,
            "overflow_y": null,
            "overflow_x": null,
            "grid_auto_flow": null,
            "grid_area": null,
            "grid_template_columns": null,
            "flex": null,
            "_model_name": "LayoutModel",
            "justify_items": null,
            "grid_row": null,
            "max_height": null,
            "align_content": null,
            "visibility": null,
            "align_self": null,
            "height": null,
            "min_height": null,
            "padding": null,
            "grid_auto_rows": null,
            "grid_gap": null,
            "max_width": null,
            "order": null,
            "_view_module_version": "1.2.0",
            "grid_template_areas": null,
            "object_position": null,
            "object_fit": null,
            "grid_auto_columns": null,
            "margin": null,
            "display": null,
            "left": null
          }
        }
      }
    }
  },
  "cells": [
    {
      "cell_type": "markdown",
      "metadata": {
        "id": "t59TvJQClV6J"
      },
      "source": [
        "# Домашнее задание 2. Классификация, детекция."
      ]
    },
    {
      "cell_type": "markdown",
      "metadata": {
        "id": "GNGCvF_flV6J"
      },
      "source": [
        "Оценка за часть 1 и часть 2 в этом дз -- по 5 баллов."
      ]
    },
    {
      "cell_type": "markdown",
      "metadata": {
        "id": "Oig-6GFGlV6J"
      },
      "source": [
        "## Часть 1. Классификация\n",
        "\n",
        "В этом задании потребуется обучить классификатор изображений. Будем работать с датасетом, название которого раскрывать не будем. Можете посмотреть самостоятельно на картинки, которые в датасете есть. В нём 200 классов и около 5 тысяч картинок на каждый класс. Классы пронумерованы, как нетрудно догадаться, от 0 до 199. Скачать датасет можно вот [тут](https://yadi.sk/d/BNR41Vu3y0c7qA).\n",
        "\n",
        "Структура датасета простая -- есть директории train и val, в которых лежат обучающие и валидационные данные. В train/ и val/ лежат директориии, соответствующие классам изображений, в которых лежат собственно сами изображения.\n",
        " \n",
        "__Задание__. Добейтесь accuracy **не менее 0.44**. Напишите краткий отчёт о проделанных экспериментах. Что сработало и что не сработало? Почему вы решили, сделать так, а не иначе? Обязательно указывайте ссылки на чужой код, если вы его используете. Обязательно ссылайтесь на статьи/блогпосты/вопросы на stackoverflow/видосы от (индийских) ютуберов/курсы/подсказки от Дяди Васи и прочие дополнительные материалы, если вы их используете. \n",
        "\n",
        "В коде ниже необходимо, чтобы код проходил все `assert`'ы.\n",
        "\n",
        "Необходимо написать функцию `predict` по шаблону ниже. Эта функция принимает на вход модель, даталоадер с валидационнами данными, criterion для подсчёта лосса и device, на котором будут производиться вычисления (определён ниже) и возвращает список лоссов по всем объектам, список из предсказанных классов для каждого объекта из из даталоалера и список из настоящих классов для каждого объекта в даталоадере (и именно в таком порядке).\n",
        "\n",
        "__Использовать внешние данные для обучения строго запрещено__. Можно использовать предобученные модели из `torchvision`.\n",
        "\n",
        "__Критерии оценки__: Оценка вычисляется по простой формуле: min(5, 5 * Ваша accuracy / 0.44). Оценка округляется до десятых по арифметическим правилам.\n",
        "\n",
        "__Советы и указания__:\n",
        " - Наверняка вам потребуется много гуглить о классификации и о том, как заставить её работать. Это нормально, все гуглят. Но не забывайте, что нужно быть готовым за скатанный код отвечать на защите :)\n",
        " - Используйте аугментации. Для этого пользуйтесь модулем torchvision.transforms или библиотекой [albumentations](https://github.com/albumentations-team/albumentations)\n",
        " - (ещё раз) Можно файнтюнить предобученные модели из `torchvision`.\n",
        " - Рекомендуем написать вам сначала класс-датасет (или воспользоваться классом ImageFolder), который возвращает картинки и соответствующие им классы, а затем функции для трейна по шаблонам ниже. Однако делать это мы не заставляем. Если вам так неудобно, то можете писать код в удобном стиле. Однако учтите, что чрезмерное изменение нижеперечисленных шаблонов увеличит количество вопросов к вашему коду и повысит вероятность вызова на защиту :)\n",
        " - Валидируйте. Трекайте ошибки как можно раньше, чтобы не тратить время впустую.\n",
        " - Чтобы отладить код, пробуйте обучаться на маленькой части датасета. Когда вы поняли, что смогли всё отдебажить, переходите обучению по всему датасету\n",
        " - На каждый запуск делайте ровно одно изменение в модели/аугментации/оптимайзере, чтобы понять, что и как влияет на результат.\n",
        " - Фиксируйте random seed.\n",
        " - Начинайте с простых моделей и постепенно переходите к сложным. Обучение лёгких моделей экономит много времени.\n",
        " - Ставьте расписание на learning rate. Уменьшайте его, когда лосс на валидации перестаёт убывать.\n",
        " - Советуем использовать гпу. Если у вас его нет, используйте google colab. Если вам неудобно его использовать на постоянной основе, напишите и отладьте весь код локально на CPU, а затем запустите уже написанный ноутбук в колабе. Авторское решение задания достигает требуемой точности в колабе за 15 минут обучения.\n",
        " \n",
        "Good luck & have fun! :)"
      ]
    },
    {
      "cell_type": "code",
      "metadata": {
        "id": "KcX9iamslYhK"
      },
      "source": [
        "import torch\n",
        "import torchvision\n",
        "from torch import nn\n",
        "from torch.nn import functional as F\n",
        "from torchvision import datasets\n",
        "from torchvision import transforms\n",
        "import numpy as np\n",
        "import os\n",
        "from os.path import isfile, join\n",
        "import time"
      ],
      "execution_count": null,
      "outputs": []
    },
    {
      "cell_type": "markdown",
      "metadata": {
        "id": "ABRVw_Jwla-4"
      },
      "source": [
        "Решил загрузить так же, как показано в семинаре. Создал свой дропбокс и туда закинул zip"
      ]
    },
    {
      "cell_type": "code",
      "metadata": {
        "colab": {
          "base_uri": "https://localhost:8080/"
        },
        "id": "jJDXN2vQlfto",
        "outputId": "dca3bb68-9a18-44b6-d22e-7e560fa94f72"
      },
      "source": [
        "!wget https://www.dropbox.com/s/iepwthelje6rzaj/dataset.zip\n",
        "!unzip -q dataset.zip"
      ],
      "execution_count": null,
      "outputs": [
        {
          "output_type": "stream",
          "text": [
            "--2020-12-25 10:19:03--  https://www.dropbox.com/s/iepwthelje6rzaj/dataset.zip\n",
            "Resolving www.dropbox.com (www.dropbox.com)... 162.125.1.18, 2620:100:6016:18::a27d:112\n",
            "Connecting to www.dropbox.com (www.dropbox.com)|162.125.1.18|:443... connected.\n",
            "HTTP request sent, awaiting response... 301 Moved Permanently\n",
            "Location: /s/raw/iepwthelje6rzaj/dataset.zip [following]\n",
            "--2020-12-25 10:19:03--  https://www.dropbox.com/s/raw/iepwthelje6rzaj/dataset.zip\n",
            "Reusing existing connection to www.dropbox.com:443.\n",
            "HTTP request sent, awaiting response... 302 Found\n",
            "Location: https://uc02704ccbfc2f15d06fdeb72715.dl.dropboxusercontent.com/cd/0/inline/BFvqlgROsW1HWY-HHy5YSik9-SJ04bydtFQlQStXng7G9xTUZMmXwNCUcwFZHbGFQnQpuQDK0QHNwE6GzDQeVtTrtjerYkJtIYL2dU7lKUeK2qQIMaoN_GDsKDdBGx64GG0/file# [following]\n",
            "--2020-12-25 10:19:04--  https://uc02704ccbfc2f15d06fdeb72715.dl.dropboxusercontent.com/cd/0/inline/BFvqlgROsW1HWY-HHy5YSik9-SJ04bydtFQlQStXng7G9xTUZMmXwNCUcwFZHbGFQnQpuQDK0QHNwE6GzDQeVtTrtjerYkJtIYL2dU7lKUeK2qQIMaoN_GDsKDdBGx64GG0/file\n",
            "Resolving uc02704ccbfc2f15d06fdeb72715.dl.dropboxusercontent.com (uc02704ccbfc2f15d06fdeb72715.dl.dropboxusercontent.com)... 162.125.1.15, 2620:100:6016:15::a27d:10f\n",
            "Connecting to uc02704ccbfc2f15d06fdeb72715.dl.dropboxusercontent.com (uc02704ccbfc2f15d06fdeb72715.dl.dropboxusercontent.com)|162.125.1.15|:443... connected.\n",
            "HTTP request sent, awaiting response... 302 Found\n",
            "Location: /cd/0/inline2/BFvW8GwJxjbPCvFDuKcyXqyqbTlpW-zgvfJ77XZSXF9mMNxGfyng2kHaRmGXOgBNLx-LAPKUJxA9iKttgxGLzkUmelN8kYWqlGc55UcQKegzD8zciD9BYyo3hRU_eg3H6uLovfxj-WoTMQeci4dDQ_O7ADMX-0BNV9EexlPAlIzm5XOYdYqyLhIxNU-GHXxnCEnNRhZ3JVuYHVFjliCIcQABLc5vsx79n5H8Xw-_gZNzqF8caKTVFg732BPUYyP_N4R-6tDtcPrXDdG4ENRkUzHPSrQ9ImqQm4nkZT7bbZuyPQixMO6RDvzfnz6Jwu15J3TE4fs6gbmzSAVnNIMs680qV2m-3xplMPu3o33t6T7isg/file [following]\n",
            "--2020-12-25 10:19:04--  https://uc02704ccbfc2f15d06fdeb72715.dl.dropboxusercontent.com/cd/0/inline2/BFvW8GwJxjbPCvFDuKcyXqyqbTlpW-zgvfJ77XZSXF9mMNxGfyng2kHaRmGXOgBNLx-LAPKUJxA9iKttgxGLzkUmelN8kYWqlGc55UcQKegzD8zciD9BYyo3hRU_eg3H6uLovfxj-WoTMQeci4dDQ_O7ADMX-0BNV9EexlPAlIzm5XOYdYqyLhIxNU-GHXxnCEnNRhZ3JVuYHVFjliCIcQABLc5vsx79n5H8Xw-_gZNzqF8caKTVFg732BPUYyP_N4R-6tDtcPrXDdG4ENRkUzHPSrQ9ImqQm4nkZT7bbZuyPQixMO6RDvzfnz6Jwu15J3TE4fs6gbmzSAVnNIMs680qV2m-3xplMPu3o33t6T7isg/file\n",
            "Reusing existing connection to uc02704ccbfc2f15d06fdeb72715.dl.dropboxusercontent.com:443.\n",
            "HTTP request sent, awaiting response... 200 OK\n",
            "Length: 220318689 (210M) [application/zip]\n",
            "Saving to: ‘dataset.zip’\n",
            "\n",
            "dataset.zip         100%[===================>] 210.11M  66.5MB/s    in 3.2s    \n",
            "\n",
            "2020-12-25 10:19:08 (66.5 MB/s) - ‘dataset.zip’ saved [220318689/220318689]\n",
            "\n"
          ],
          "name": "stdout"
        }
      ]
    },
    {
      "cell_type": "markdown",
      "metadata": {
        "id": "B3T-JbiNlh_5"
      },
      "source": [
        "Вместо написания класса использовал готовые функции torchvision.datasets.ImageFolder и torch.utils.data.DataLoader."
      ]
    },
    {
      "cell_type": "code",
      "metadata": {
        "id": "VzfUPmQVlnkQ"
      },
      "source": [
        "batch_size = 32"
      ],
      "execution_count": null,
      "outputs": []
    },
    {
      "cell_type": "markdown",
      "metadata": {
        "id": "Exkcfv9KUGrV"
      },
      "source": [
        "Создадим даталоадеры для обоих сетов и добавим аугментации"
      ]
    },
    {
      "cell_type": "code",
      "metadata": {
        "id": "wOB_hBdVlV6J"
      },
      "source": [
        "train_transform = transforms.Compose([transforms.Resize((128, 128)), transforms.ToTensor(),])\n",
        "val_transform = transforms.Compose([transforms.Resize((128, 128)), transforms.ToTensor(),])\n",
        "\n",
        "train_dataset = torchvision.datasets.ImageFolder(root=(\"./dataset/dataset/train\"), transform = train_transform)\n",
        "train_dataloader = torch.utils.data.DataLoader(train_dataset, batch_size=batch_size, shuffle=True, num_workers=4)\n",
        "val_dataset = torchvision.datasets.ImageFolder(root=(\"./dataset/dataset/val\"), transform=val_transform)\n",
        "val_dataloader = torch.utils.data.DataLoader(val_dataset, batch_size=batch_size, shuffle=True, num_workers=4)"
      ],
      "execution_count": null,
      "outputs": []
    },
    {
      "cell_type": "code",
      "metadata": {
        "colab": {
          "base_uri": "https://localhost:8080/"
        },
        "id": "jX5VsI6FlV6J",
        "outputId": "cb176a1e-8f6d-4f86-b7cb-f457cf2ae652"
      },
      "source": [
        "# Just very simple checks\n",
        "assert isinstance(train_dataset[0], tuple)\n",
        "assert len(train_dataset[0]) == 2\n",
        "assert isinstance(train_dataset[1][1], int)\n",
        "print(\"tests passed\")"
      ],
      "execution_count": null,
      "outputs": [
        {
          "output_type": "stream",
          "text": [
            "tests passed\n"
          ],
          "name": "stdout"
        }
      ]
    },
    {
      "cell_type": "markdown",
      "metadata": {
        "id": "2WUYAdvblxaI"
      },
      "source": [
        "1) Переводим модель, изображения и классы на device; 2) Зануляем градиенты; 3) Прогоняем модель; 4) Считаем ошибку; 5) Считаем градиент по ошибке; 6) Шаг градиентного спуска\n",
        "\n"
      ]
    },
    {
      "cell_type": "code",
      "metadata": {
        "id": "LMHKLcNHl1WI"
      },
      "source": [
        "import tqdm\n",
        "from sklearn.metrics import accuracy_score\n",
        "\n",
        "def train_one_epoch(model, train_dataloader, criterion, optimizer, device=\"cuda:0\"):\n",
        "    model.to(device) \n",
        "    model.train()\n",
        "    for pict, lab in train_dataloader:\n",
        "      pict = pict.to(device)\n",
        "      lab = lab.to(device)\n",
        "      optimizer.zero_grad()\n",
        "      predictions = model(pict)\n",
        "      funct = criterion(predictions, lab)\n",
        "      loss = funct\n",
        "      loss.backward()\n",
        "      optimizer.step()\n",
        "    pass"
      ],
      "execution_count": null,
      "outputs": []
    },
    {
      "cell_type": "markdown",
      "metadata": {
        "id": "4UaplxwFl39Y"
      },
      "source": [
        "1) Создаём списки и нампай-массивы для ошибок, предсказаний и настоящих классов; 2) В цикле переводим изображения из валидации и классы на device; 3) Прогоняем модель; 4) Считаем и возвращаем среднюю ошибку, и среднюю accuracy (итоговый losses - это список из собственно losses и accuracy); 5) Возвращаем предсказанные классы и истинные классы"
      ]
    },
    {
      "cell_type": "code",
      "metadata": {
        "id": "6V4Z5aEtl6Oq"
      },
      "source": [
        "def predict(model, val_dataloder, criterion, device=\"cuda:0\"):\n",
        "    model.eval()\n",
        "    losses = []                                                        \n",
        "    predicted_classes = np.array([])\n",
        "    true_classes = np.array([])\n",
        "\n",
        "    for pict, lab in val_dataloader: \n",
        "      pict = pict.to(device)\n",
        "      lab = lab.to(device) \n",
        "      y_forecasted = model(pict)\n",
        "      crit = criterion(y_forecasted, lab)\n",
        "      x = crit.item()\n",
        "      losses.append(x)\n",
        "      y_forecasted = y_forecasted.argmax(1).cpu().detach().numpy()\n",
        "      lab1 = lab.cpu().detach().numpy()\n",
        "      predicted_classes = np.append(predicted_classes, y_forecasted)\n",
        "      true_classes = np.append(true_classes, lab1)\n",
        "\n",
        "    losses = np.mean(np.array(losses))\n",
        "    val_accur = (predicted_classes == true_classes).mean()\n",
        "    losses = [losses, val_accur]\n",
        "\n",
        "    return losses, predicted_classes, true_classes\n",
        "    pass"
      ],
      "execution_count": null,
      "outputs": []
    },
    {
      "cell_type": "markdown",
      "metadata": {
        "id": "_UvAxWn4l_YJ"
      },
      "source": [
        "Для каждой эпохи выводим индекс эпохи и выполняем уже написанную функцию train, выполняем функцию predict для валидации, записываем время выполнения, accuracy и ошибку"
      ]
    },
    {
      "cell_type": "code",
      "metadata": {
        "id": "w6KTkhJ5mCOB"
      },
      "source": [
        "def train(model, train_dataloader, val_dataloader, criterion, optimizer, device=\"cuda:0\", n_epochs=10, scheduler=None):\n",
        "    model.to(device)\n",
        "\n",
        "    for i in range(n_epochs):\n",
        "        print(\"epoch {}/{}..\".format(i, n_epochs))\n",
        "        start = time.time()\n",
        "        train_one_epoch(model, train_dataloader, criterion, optimizer)\n",
        "        end = time.time()\n",
        "        losses, predicted_classes, true_classes = predict(model, val_dataloader, criterion)\n",
        "        t = end - start\n",
        "        accur = losses[1]\n",
        "        loss = losses[0]\n",
        "        print(\"epoch {} accomplished in {} seconds\".format(i, round(t, 3)))\n",
        "        print(\"accuracy after epoch {} is {}:\".format(i, round(accur, 3)))\n",
        "        print(\"loss after epoch {} is {}:\".format(i, round(loss, 3)))\n",
        "        print()\n",
        "        pass"
      ],
      "execution_count": null,
      "outputs": []
    },
    {
      "cell_type": "markdown",
      "metadata": {
        "id": "QdurJOTgmF7p"
      },
      "source": [
        "Возьмем предообученный resnet18 и обучим только последний полносвязный слой"
      ]
    },
    {
      "cell_type": "code",
      "metadata": {
        "id": "GUdheqxXmHxD"
      },
      "source": [
        "from torchvision.models import resnet18 "
      ],
      "execution_count": null,
      "outputs": []
    },
    {
      "cell_type": "code",
      "metadata": {
        "colab": {
          "base_uri": "https://localhost:8080/",
          "height": 84,
          "referenced_widgets": [
            "8aa34caf0b2a46549fde398993a34182",
            "bf49435001384b31967dff27e92e4283",
            "f2c1627d3d044b93a40d1568fc525a2b",
            "da27a371f3e3415cb0e0cf83e990929f",
            "9613c812c97e45feb6d57cc60171a7d2",
            "3665755804d44bbc96d893cbd67fbc5e",
            "304e60e5fccc4c69917345d1667d3c67",
            "2629a92e6c794be0abdd868fa06f0a81"
          ]
        },
        "id": "ywcaDr6xmLLA",
        "outputId": "c9fac996-0bfb-42a5-d426-914cf35ed383"
      },
      "source": [
        "model0 = resnet18(pretrained=True)"
      ],
      "execution_count": null,
      "outputs": [
        {
          "output_type": "stream",
          "text": [
            "Downloading: \"https://download.pytorch.org/models/resnet18-5c106cde.pth\" to /root/.cache/torch/hub/checkpoints/resnet18-5c106cde.pth\n"
          ],
          "name": "stderr"
        },
        {
          "output_type": "display_data",
          "data": {
            "application/vnd.jupyter.widget-view+json": {
              "model_id": "8aa34caf0b2a46549fde398993a34182",
              "version_minor": 0,
              "version_major": 2
            },
            "text/plain": [
              "HBox(children=(FloatProgress(value=0.0, max=46827520.0), HTML(value='')))"
            ]
          },
          "metadata": {
            "tags": []
          }
        },
        {
          "output_type": "stream",
          "text": [
            "\n"
          ],
          "name": "stdout"
        }
      ]
    },
    {
      "cell_type": "markdown",
      "metadata": {
        "id": "S88zR5KPmN1D"
      },
      "source": [
        "Посмотрим сколько входов на полносвзяном слое, чтобы обучить свой"
      ]
    },
    {
      "cell_type": "code",
      "metadata": {
        "id": "ZxWxD3TXmP9B"
      },
      "source": [
        "?model0"
      ],
      "execution_count": null,
      "outputs": []
    },
    {
      "cell_type": "markdown",
      "metadata": {
        "id": "qV8D2G9EmSSJ"
      },
      "source": [
        "Значит, на нашем полносвязном слое должно быть 512 входов"
      ]
    },
    {
      "cell_type": "markdown",
      "metadata": {
        "id": "o6JtZNJ1rd2n"
      },
      "source": [
        "Критерий лосса - кросс-энтропия, оптимизатор - Adam, lr=3e-4"
      ]
    },
    {
      "cell_type": "code",
      "metadata": {
        "id": "vO4luiOXmViY"
      },
      "source": [
        "model = resnet18(pretrained=True)\n",
        "for var in model.parameters():\n",
        "    var.requires_grad = False\n",
        "model.fc = nn.Linear(512, 200)\n",
        "\n",
        "optimizer = torch.optim.Adam(model.fc.parameters(), 3e-4) \n",
        "train_dataloader = train_dataloader \n",
        "val_dataloader = val_dataloader\n",
        "criterion = nn.CrossEntropyLoss()\n",
        "scheduler = None\n",
        "n_epochs = 10\n",
        "device = torch.device(\"cuda:0\") if torch.cuda.is_available() else torch.device(\"cpu\")"
      ],
      "execution_count": null,
      "outputs": []
    },
    {
      "cell_type": "markdown",
      "metadata": {
        "id": "93_OR0-kmvgg"
      },
      "source": [
        "Запустим обучение "
      ]
    },
    {
      "cell_type": "code",
      "metadata": {
        "colab": {
          "base_uri": "https://localhost:8080/"
        },
        "id": "_l0BZvjxmt_4",
        "outputId": "1f145084-e1a0-4d95-805b-8529f67363fb"
      },
      "source": [
        "train(model, train_dataloader, val_dataloader, criterion, optimizer, device, n_epochs, scheduler)"
      ],
      "execution_count": null,
      "outputs": [
        {
          "output_type": "stream",
          "text": [
            "epoch 0/10..\n",
            "epoch 0 accomplished in 79.201 seconds\n",
            "accuracy after epoch 0 is 0.53:\n",
            "loss after epoch 0 is 1.984:\n",
            "\n",
            "epoch 1/10..\n",
            "epoch 1 accomplished in 78.436 seconds\n",
            "accuracy after epoch 1 is 0.546:\n",
            "loss after epoch 1 is 1.871:\n",
            "\n",
            "epoch 2/10..\n",
            "epoch 2 accomplished in 77.858 seconds\n",
            "accuracy after epoch 2 is 0.56:\n",
            "loss after epoch 2 is 1.834:\n",
            "\n",
            "epoch 3/10..\n",
            "epoch 3 accomplished in 78.67 seconds\n",
            "accuracy after epoch 3 is 0.566:\n",
            "loss after epoch 3 is 1.819:\n",
            "\n",
            "epoch 4/10..\n",
            "epoch 4 accomplished in 79.934 seconds\n",
            "accuracy after epoch 4 is 0.562:\n",
            "loss after epoch 4 is 1.832:\n",
            "\n",
            "epoch 5/10..\n",
            "epoch 5 accomplished in 79.198 seconds\n",
            "accuracy after epoch 5 is 0.558:\n",
            "loss after epoch 5 is 1.848:\n",
            "\n",
            "epoch 6/10..\n",
            "epoch 6 accomplished in 78.448 seconds\n",
            "accuracy after epoch 6 is 0.566:\n",
            "loss after epoch 6 is 1.831:\n",
            "\n",
            "epoch 7/10..\n",
            "epoch 7 accomplished in 79.451 seconds\n",
            "accuracy after epoch 7 is 0.561:\n",
            "loss after epoch 7 is 1.838:\n",
            "\n",
            "epoch 8/10..\n",
            "epoch 8 accomplished in 80.063 seconds\n",
            "accuracy after epoch 8 is 0.566:\n",
            "loss after epoch 8 is 1.849:\n",
            "\n",
            "epoch 9/10..\n",
            "epoch 9 accomplished in 77.797 seconds\n",
            "accuracy after epoch 9 is 0.562:\n",
            "loss after epoch 9 is 1.849:\n",
            "\n"
          ],
          "name": "stdout"
        }
      ]
    },
    {
      "cell_type": "markdown",
      "metadata": {
        "id": "PvV49FBNlV6J"
      },
      "source": [
        "Простой тест на проверку правильности написанного кода"
      ]
    },
    {
      "cell_type": "code",
      "metadata": {
        "colab": {
          "base_uri": "https://localhost:8080/"
        },
        "id": "M78N1CWMlV6J",
        "outputId": "55cec77b-5e74-4877-f859-65aefe8c0a4a"
      },
      "source": [
        "all_losses, predicted_labels, true_labels = predict(model, val_dataloader, criterion, device)\n",
        "assert len(predicted_labels) == len(val_dataset)\n",
        "accuracy = accuracy_score(predicted_labels, true_labels)\n",
        "print(\"tests passed\")"
      ],
      "execution_count": null,
      "outputs": [
        {
          "output_type": "stream",
          "text": [
            "tests passed\n"
          ],
          "name": "stdout"
        }
      ]
    },
    {
      "cell_type": "markdown",
      "metadata": {
        "id": "SjPRy73ulV6J"
      },
      "source": [
        "После всех экспериментов которые вы проделали, выберите лучшую из своих моделей, запустите функцию evaluate. Эта функция должна брать на вход модель и даталоадер с валидационными данными и возврашать accuracy, посчитанную на этом датасете."
      ]
    },
    {
      "cell_type": "code",
      "metadata": {
        "colab": {
          "base_uri": "https://localhost:8080/"
        },
        "id": "Fh7Yg0iAlV6J",
        "outputId": "709430bf-f754-4659-c36f-8f4164d5d603"
      },
      "source": [
        "all_losses, predicted_labels, true_labels = predict(model, val_dataloader, criterion, device)\n",
        "assert len(predicted_labels) == len(val_dataset)\n",
        "accuracy = accuracy_score(true_labels, predicted_labels)\n",
        "print(\"Оценка за это задание составит {} баллов\".format(min(5, 5*accuracy / 0.44)))"
      ],
      "execution_count": null,
      "outputs": [
        {
          "output_type": "stream",
          "text": [
            "Оценка за это задание составит 5 баллов\n"
          ],
          "name": "stdout"
        }
      ]
    },
    {
      "cell_type": "markdown",
      "metadata": {
        "id": "3j9Y7y1olV6J"
      },
      "source": [
        "## Часть 2. Object detection.\n",
        "\n",
        "В этом задании потребуется обучить детектор фруктов на изображении. Датасет можно скачать [отсюда](https://yadi.sk/d/UPwQB7OZrB48qQ)."
      ]
    },
    {
      "cell_type": "code",
      "metadata": {
        "id": "XiZqhOPblV6J"
      },
      "source": [
        "import pandas as pd\n",
        "import numpy as np\n",
        "import torch\n",
        "from torch import nn\n",
        "from torch.nn import functional as F\n",
        "from torch.utils.data import Dataset, DataLoader"
      ],
      "execution_count": null,
      "outputs": []
    },
    {
      "cell_type": "code",
      "metadata": {
        "id": "e_vD7Sl3lV6K",
        "colab": {
          "base_uri": "https://localhost:8080/"
        },
        "outputId": "ef7d228d-fb7e-4bfa-e513-428366bf47d1"
      },
      "source": [
        "# we will need this library to process the labeling\n",
        "! pip install xmltodict"
      ],
      "execution_count": null,
      "outputs": [
        {
          "output_type": "stream",
          "text": [
            "Collecting xmltodict\n",
            "  Downloading https://files.pythonhosted.org/packages/28/fd/30d5c1d3ac29ce229f6bdc40bbc20b28f716e8b363140c26eff19122d8a5/xmltodict-0.12.0-py2.py3-none-any.whl\n",
            "Installing collected packages: xmltodict\n",
            "Successfully installed xmltodict-0.12.0\n"
          ],
          "name": "stdout"
        }
      ]
    },
    {
      "cell_type": "code",
      "metadata": {
        "id": "FXIoXrv_lV6K"
      },
      "source": [
        "import xmltodict, json"
      ],
      "execution_count": null,
      "outputs": []
    },
    {
      "cell_type": "code",
      "metadata": {
        "id": "QnzUo061kYCy"
      },
      "source": [
        "import xmltodict\n",
        "import json\n",
        "import glob\n",
        "import cv2\n",
        "import os\n",
        "import torchvision\n",
        "import matplotlib.pyplot as plt\n",
        "from sklearn.metrics import auc"
      ],
      "execution_count": null,
      "outputs": []
    },
    {
      "cell_type": "markdown",
      "metadata": {
        "id": "sc0JIm4LlWz8"
      },
      "source": [
        "Загрузим Датасет так же как в первой задаче через дропбокс"
      ]
    },
    {
      "cell_type": "code",
      "metadata": {
        "colab": {
          "base_uri": "https://localhost:8080/"
        },
        "id": "Pr-coK5ulVrb",
        "outputId": "35c283b2-bb42-4ae0-cc7e-29b53743fa2f"
      },
      "source": [
        "!wget https://www.dropbox.com/s/h04x6z6afoi8ymo/archive.zip\n",
        "!unzip -q archive.zip"
      ],
      "execution_count": null,
      "outputs": [
        {
          "output_type": "stream",
          "text": [
            "--2020-11-30 21:15:10--  https://www.dropbox.com/s/h04x6z6afoi8ymo/archive.zip\n",
            "Resolving www.dropbox.com (www.dropbox.com)... 162.125.1.1, 2620:100:6016:1::a27d:101\n",
            "Connecting to www.dropbox.com (www.dropbox.com)|162.125.1.1|:443... connected.\n",
            "HTTP request sent, awaiting response... 301 Moved Permanently\n",
            "Location: /s/raw/h04x6z6afoi8ymo/archive.zip [following]\n",
            "--2020-11-30 21:15:11--  https://www.dropbox.com/s/raw/h04x6z6afoi8ymo/archive.zip\n",
            "Reusing existing connection to www.dropbox.com:443.\n",
            "HTTP request sent, awaiting response... 302 Found\n",
            "Location: https://uc77704b1152f2d60068de723fd3.dl.dropboxusercontent.com/cd/0/inline/BENYdR9C1LdYSLG6Ay3bEukUBPp-nxmgpHfe6vLeaotTRN4h6lfz4Uaxgl0z-3Cv1WzH1XDBH6ydoePc9d8dXb3SMKnCUBUG0TdGS9SQK8N4XCNpr6buyk4kunkBp95zcuY/file# [following]\n",
            "--2020-11-30 21:15:11--  https://uc77704b1152f2d60068de723fd3.dl.dropboxusercontent.com/cd/0/inline/BENYdR9C1LdYSLG6Ay3bEukUBPp-nxmgpHfe6vLeaotTRN4h6lfz4Uaxgl0z-3Cv1WzH1XDBH6ydoePc9d8dXb3SMKnCUBUG0TdGS9SQK8N4XCNpr6buyk4kunkBp95zcuY/file\n",
            "Resolving uc77704b1152f2d60068de723fd3.dl.dropboxusercontent.com (uc77704b1152f2d60068de723fd3.dl.dropboxusercontent.com)... 162.125.1.15, 2620:100:6016:15::a27d:10f\n",
            "Connecting to uc77704b1152f2d60068de723fd3.dl.dropboxusercontent.com (uc77704b1152f2d60068de723fd3.dl.dropboxusercontent.com)|162.125.1.15|:443... connected.\n",
            "HTTP request sent, awaiting response... 302 Found\n",
            "Location: /cd/0/inline2/BEMdSGSTFvYOGjRRrxQPHnkqQKiaNKfVB4gx1WiVgWU1Og-CqefHQkdHfvgzulk6t389JBXnXttUfTXglBvAnvn1zUUxaTcTnv3QidtfhcGLGqqLRZtcq8QIfugZT2EKE143Ib54mbtb0dDLZLHnmz1ud0HTlxI8M8Qrgk-mND3CO5blsK2U5LVZCLMh7LRKYILVt30iNdr3Tl5xeBr88HXYVXNaLAVvQiKQzEsPw4vH12wBKGbl2baZ0RfomOAod8-vSJxiPM8A2615hI2hSiki2pGLWOVlIExYdOAUX_tZGRo3pMcnn9UpQSu-ddv7Hq74cUxeTsOULNvRpGGcAy0y4w_ymc8zhcPuCcfhFfpR3w/file [following]\n",
            "--2020-11-30 21:15:11--  https://uc77704b1152f2d60068de723fd3.dl.dropboxusercontent.com/cd/0/inline2/BEMdSGSTFvYOGjRRrxQPHnkqQKiaNKfVB4gx1WiVgWU1Og-CqefHQkdHfvgzulk6t389JBXnXttUfTXglBvAnvn1zUUxaTcTnv3QidtfhcGLGqqLRZtcq8QIfugZT2EKE143Ib54mbtb0dDLZLHnmz1ud0HTlxI8M8Qrgk-mND3CO5blsK2U5LVZCLMh7LRKYILVt30iNdr3Tl5xeBr88HXYVXNaLAVvQiKQzEsPw4vH12wBKGbl2baZ0RfomOAod8-vSJxiPM8A2615hI2hSiki2pGLWOVlIExYdOAUX_tZGRo3pMcnn9UpQSu-ddv7Hq74cUxeTsOULNvRpGGcAy0y4w_ymc8zhcPuCcfhFfpR3w/file\n",
            "Reusing existing connection to uc77704b1152f2d60068de723fd3.dl.dropboxusercontent.com:443.\n",
            "HTTP request sent, awaiting response... 200 OK\n",
            "Length: 29737028 (28M) [application/zip]\n",
            "Saving to: ‘archive.zip’\n",
            "\n",
            "archive.zip         100%[===================>]  28.36M  90.3MB/s    in 0.3s    \n",
            "\n",
            "2020-11-30 21:15:12 (90.3 MB/s) - ‘archive.zip’ saved [29737028/29737028]\n",
            "\n"
          ],
          "name": "stdout"
        }
      ]
    },
    {
      "cell_type": "markdown",
      "metadata": {
        "id": "9bUsSwkNlV6K"
      },
      "source": [
        "Напишем датасет"
      ]
    },
    {
      "cell_type": "code",
      "metadata": {
        "id": "2M-JtVXolV6K"
      },
      "source": [
        "class2tag = {\"apple\": 1, \"orange\": 2, \"banana\": 3}\n",
        "\n",
        "\n",
        "class FruitDataset(Dataset):\n",
        "    def __init__(self, data_dir, transform=None):\n",
        "        self.images = []\n",
        "        self.annotations = []\n",
        "        self.transform = transform\n",
        "        for annotation in glob.glob(data_dir + \"/*xml\"):\n",
        "            image_fname = os.path.splitext(annotation)[0] + \".jpg\"\n",
        "            self.images.append(cv2.cvtColor(cv2.imread(image_fname), cv2.COLOR_BGR2RGB))\n",
        "            with open(annotation) as f:\n",
        "                annotation_dict = xmltodict.parse(f.read())\n",
        "            bboxes = []\n",
        "            labels = []\n",
        "            objects = annotation_dict[\"annotation\"][\"object\"]\n",
        "            if not isinstance(objects, list):\n",
        "                objects = [objects]\n",
        "            for obj in objects:\n",
        "                bndbox = obj[\"bndbox\"]\n",
        "                bbox = [bndbox[\"xmin\"], bndbox[\"ymin\"], bndbox[\"xmax\"], bndbox[\"ymax\"]]\n",
        "                bbox = list(map(int, bbox))\n",
        "                bboxes.append(torch.tensor(bbox))\n",
        "                labels.append(class2tag[obj[\"name\"]])\n",
        "            self.annotations.append(\n",
        "                {\"boxes\": torch.stack(bboxes).float(), \"labels\": torch.tensor(labels)}\n",
        "            )\n",
        "\n",
        "    def __getitem__(self, i):\n",
        "        if self.transform:\n",
        "            res = self.transform(\n",
        "                image=self.images[i],\n",
        "                bboxes=self.annotations[i][\"boxes\"],\n",
        "                labels=self.annotations[i][\"labels\"],\n",
        "            )\n",
        "            return res[\"image\"], {\n",
        "                \"boxes\": torch.tensor(res[\"bboxes\"]),\n",
        "                \"labels\": torch.tensor(res[\"labels\"]),\n",
        "            }\n",
        "        else:\n",
        "            return self.images[i], self.annotations[i]\n",
        "\n",
        "    def __len__(self):\n",
        "        return len(self.images)"
      ],
      "execution_count": null,
      "outputs": []
    },
    {
      "cell_type": "markdown",
      "metadata": {
        "id": "ZDw0Z78flV6K"
      },
      "source": [
        "Техническая работа"
      ]
    },
    {
      "cell_type": "code",
      "metadata": {
        "id": "x9PSkU8VlV6K"
      },
      "source": [
        "def intersection_over_union(dt_bbox, gt_bbox):\n",
        "    \"\"\"\n",
        "    Intersection over Union between two bboxes\n",
        "    :param dt_bbox: list or numpy array of size (4,) [x0, y0, x1, y1]\n",
        "    :param gt_bbox: list or numpy array of size (4,) [x0, y0, x1, y1]\n",
        "    :return : intersection over union\n",
        "    \"\"\"\n",
        "    dt = dt_bbox\n",
        "    gt = gt_bbox\n",
        "    maxX = max(dt[0], gt[0])\n",
        "    minX = min(dt[2], gt[2])\n",
        "    maxY = max(dt[1], gt[1])\n",
        "    minY = min(dt[3], gt[3])\n",
        "    if minX < maxX or minY < maxY:\n",
        "        return 0\n",
        "    else:\n",
        "        inter = (minX - maxX) * (minY - maxY)\n",
        "    union = (dt[2] - dt[0]) * (dt[3] - dt[1]) + (gt[2] - gt[0]) * (gt[3] - gt[1]) - inter\n",
        "\n",
        "    return float(inter) / union\n",
        "\n",
        "def evaluate_sample(target_pred, target_true, iou_threshold=0.5):\n",
        "    # правильные прямоугольники\n",
        "    gt_bboxes = target_true['boxes'].numpy()\n",
        "    gt_labels = target_true['labels'].numpy()\n",
        "\n",
        "    # предсказания модели\n",
        "    dt_bboxes = target_pred['boxes'].numpy()\n",
        "    dt_labels = target_pred['labels'].numpy()\n",
        "    dt_scores = target_pred['scores'].numpy()\n",
        "\n",
        "    results = []\n",
        "    # для каждого прямоугольника из предсказания находим максимально близкий прямоугольник среди ответов\n",
        "    for detection_id in range(len(dt_labels)):\n",
        "        dt_bbox = dt_bboxes[detection_id, :]\n",
        "        dt_label = dt_labels[detection_id]\n",
        "        dt_score = dt_scores[detection_id]\n",
        "\n",
        "        detection_result_dict = {'score': dt_score}\n",
        "\n",
        "        max_IoU = 0\n",
        "        max_gt_id = -1\n",
        "        for gt_id in range(len(gt_labels)):\n",
        "            gt_bbox = gt_bboxes[gt_id, :]\n",
        "            gt_label = gt_labels[gt_id]\n",
        "\n",
        "            if gt_label != dt_label:\n",
        "                continue\n",
        "\n",
        "            if intersection_over_union(dt_bbox, gt_bbox) > max_IoU:\n",
        "                max_IoU = intersection_over_union(dt_bbox, gt_bbox)\n",
        "                max_gt_id = gt_id\n",
        "\n",
        "        \n",
        "        if max_gt_id >= 0 and max_IoU >= iou_threshold:\n",
        "            # для прямоугольника detection_id нашли правильный ответ, который имеет IoU больше 0.5 \n",
        "            detection_result_dict['TP'] = 1\n",
        "            # удаляем эти прямоугольники из данных, чтобы больше не матчить с ними\n",
        "            gt_labels = np.delete(gt_labels, max_gt_id, axis=0)\n",
        "            gt_bboxes = np.delete(gt_bboxes, max_gt_id, axis=0)\n",
        "\n",
        "        else:\n",
        "            detection_result_dict['TP'] = 0\n",
        "\n",
        "        results.append(detection_result_dict)\n",
        "\n",
        "    # возвращаем результат, для кажого прямоугольника говорим, смогли ли сматчить его с чем то из ответов\n",
        "    return results\n",
        "\n",
        "\n",
        "def evaluate(model, test_loader, device):\n",
        "    results = []\n",
        "    model.eval()\n",
        "    nbr_boxes = 0\n",
        "    with torch.no_grad():\n",
        "        for batch, (images, targets_true) in enumerate(test_loader):\n",
        "            images = list(image.to(device).float() for image in images)\n",
        "            targets_pred = model(images)\n",
        "\n",
        "            targets_true = [{k: v.cpu().float() for k, v in t.items()} for t in targets_true]\n",
        "            targets_pred = [{k: v.cpu().float() for k, v in t.items()} for t in targets_pred]\n",
        "\n",
        "            for i in range(len(targets_true)):\n",
        "                target_true = targets_true[i]\n",
        "                target_pred = targets_pred[i]\n",
        "                nbr_boxes += target_true['labels'].shape[0]\n",
        "\n",
        "                # матчим ответы с правильными боксами\n",
        "                results.extend(evaluate_sample(target_pred, target_true))\n",
        "\n",
        "    results = sorted(results, key=lambda k: k['score'], reverse=True)\n",
        "\n",
        "    # считаем точность и полноту, чтобы потом посчитать mAP как auc\n",
        "    acc_TP = np.zeros(len(results))\n",
        "    acc_FP = np.zeros(len(results))\n",
        "    recall = np.zeros(len(results))\n",
        "    precision = np.zeros(len(results))\n",
        "\n",
        "    if results[0]['TP'] == 1:\n",
        "        acc_TP[0] = 1\n",
        "    else:\n",
        "        acc_FP[0] = 1\n",
        "\n",
        "    for i in range(1, len(results)):\n",
        "        acc_TP[i] = results[i]['TP'] + acc_TP[i - 1]\n",
        "        acc_FP[i] = (1 - results[i]['TP']) + acc_FP[i - 1]\n",
        "\n",
        "        precision[i] = acc_TP[i] / (acc_TP[i] + acc_FP[i])\n",
        "        recall[i] = acc_TP[i] / nbr_boxes\n",
        "\n",
        "    return auc(recall, precision)"
      ],
      "execution_count": null,
      "outputs": []
    },
    {
      "cell_type": "markdown",
      "metadata": {
        "id": "b9-bBCOslV6K"
      },
      "source": [
        "__Задание__. Обучите модель для object detection на __обучающем__ датасете и добейтесь PR-AUC не менее __0.91__ на  __тестовом__.\n",
        "\n",
        " - Создайте модель и оптимайзер\n",
        " - Напишите функцию обучения модели\n",
        " - Используйте аугментации\n",
        " \n",
        "Использовать аугментации для обучения __обязательно__. Они дадут 1 балл из 5. Пользуйтесь модулем torchvision.transforms или библиотекой albumentations (о которой говорилось ранее). Последняя библиотека особенно удобна, поскольку умеет сама вычислять новые координаты bounding box'ов после трансформаций картинки. Советуем обратить внимание на следующий [гайд](https://albumentations.ai/docs/getting_started/bounding_boxes_augmentation/). Обратите внимание, что код, написанный в датасете выше, верен только если вы используете albumentations. Если вы выбрали путь torchvision.transforms, вам потребуется метод `__getitem__` изменить (что-то типа `return self.transform(self.images[i])`; однако в таком случае вычислять новые координаты bounding box'ов после трансформаций вам придётся вручную =))\n",
        "\n",
        "Оставшиеся 4 балла вычисляются по простой формуле: __min(4, 4 * Ваш auc / 0.91)__."
      ]
    },
    {
      "cell_type": "markdown",
      "metadata": {
        "id": "uxi-XsItlfIC"
      },
      "source": [
        "Установим библиотеку albumentations"
      ]
    },
    {
      "cell_type": "code",
      "metadata": {
        "colab": {
          "base_uri": "https://localhost:8080/"
        },
        "id": "wuHqpWGkk6ic",
        "outputId": "dc736ba7-2ae2-4512-a4b0-8d54c798e539"
      },
      "source": [
        "!pip install -q -U albumentations\n",
        "!echo \"$(pip freeze | grep albumentations) is successfully installed\""
      ],
      "execution_count": null,
      "outputs": [
        {
          "output_type": "stream",
          "text": [
            "\u001b[K     |████████████████████████████████| 81kB 5.6MB/s \n",
            "\u001b[K     |████████████████████████████████| 952kB 13.0MB/s \n",
            "\u001b[K     |████████████████████████████████| 36.7MB 91kB/s \n",
            "\u001b[?25halbumentations==0.5.2 is successfully installed\n"
          ],
          "name": "stdout"
        }
      ]
    },
    {
      "cell_type": "code",
      "metadata": {
        "id": "JW9F8vn9k9ji"
      },
      "source": [
        "%matplotlib inline"
      ],
      "execution_count": null,
      "outputs": []
    },
    {
      "cell_type": "code",
      "metadata": {
        "id": "3vsfpP8hlANq"
      },
      "source": [
        "import random\n",
        "\n",
        "import cv2\n",
        "from matplotlib import pyplot as plt\n",
        "\n",
        "import albumentations as A"
      ],
      "execution_count": null,
      "outputs": []
    },
    {
      "cell_type": "code",
      "metadata": {
        "id": "BD-IkqPslCIS"
      },
      "source": [
        "from albumentations.pytorch.transforms import ToTensor"
      ],
      "execution_count": null,
      "outputs": []
    },
    {
      "cell_type": "markdown",
      "metadata": {
        "id": "Zbd0Lyctr196"
      },
      "source": [
        "Функция train_one_epoch "
      ]
    },
    {
      "cell_type": "code",
      "metadata": {
        "id": "uDQ0oodxlFIr"
      },
      "source": [
        "def train_one_epoch(model, optimizer, data_loader, device):\n",
        "    model.train()\n",
        "    n = 0\n",
        "    totalLoss = 0\n",
        "    for pictures, lab in data_loader:\n",
        "        pictures = list(image.to(device).float() for image in pictures)\n",
        "        lab = [{k: v.to(device) for k, v in t.items()} for t in lab]\n",
        "\n",
        "        loss_dct = model(pictures, lab)\n",
        "        losses = sum(loss for loss in loss_dct.values())\n",
        "\n",
        "        optimizer.zero_grad()\n",
        "        losses.backward()\n",
        "        optimizer.step()\n",
        "\n",
        "        n += 1\n",
        "        x = losses.cpu().detach().numpy()\n",
        "        totalLoss += float(x)\n",
        "\n",
        "        if n % 10 == 0:\n",
        "            print(\"Loss value after {} batches is {}\".format(n, round(totalLoss / n, 3)))\n",
        "\n",
        "    return totalLoss\n",
        "\n",
        "\n",
        "def train(model, n_epochs, train_dataloader, val_dataloader, optimizer, device):\n",
        "    for epoch in range(n_epochs):\n",
        "        model.eval()\n",
        "        a = evaluate(model, val_dataloader, device=device)\n",
        "        print(\"AUC ON TEST: {}\".format(a))\n",
        "        model.train()\n",
        "        train_one_epoch(model, optimizer, train_dataloader, device=device)"
      ],
      "execution_count": null,
      "outputs": []
    },
    {
      "cell_type": "markdown",
      "metadata": {
        "id": "-yD66GmPsHH3"
      },
      "source": [
        "Воспользуемся функцией collate"
      ]
    },
    {
      "cell_type": "code",
      "metadata": {
        "id": "4p8aetwhlIIy"
      },
      "source": [
        "def collate_fn(batch):\n",
        "    return tuple(zip(*batch))"
      ],
      "execution_count": null,
      "outputs": []
    },
    {
      "cell_type": "code",
      "metadata": {
        "id": "c1ODB82c1dVd"
      },
      "source": [
        "A.Compose?"
      ],
      "execution_count": null,
      "outputs": []
    },
    {
      "cell_type": "markdown",
      "metadata": {
        "id": "9io-gXqG6RCm"
      },
      "source": [
        "Добавим аугментации"
      ]
    },
    {
      "cell_type": "code",
      "metadata": {
        "id": "Mn-J9i5FlKqK"
      },
      "source": [
        "train_transform = A.Compose([ \n",
        "                              A.VerticalFlip(p=0.5),\n",
        "                              A.HorizontalFlip(p=0.5),\n",
        "                              A.RandomBrightnessContrast(p=0.3),\n",
        "                              A.pytorch.ToTensor()\n",
        "                                      ], \n",
        "                            bbox_params=A.BboxParams(format='pascal_voc', label_fields=['labels']),)\n",
        "val_transform = A.Compose([A.pytorch.ToTensor()\n",
        "                                      ])\n",
        "\n",
        "train_dataset = FruitDataset(\"./train_zip/train\", transform=train_transform)\n",
        "val_dataset = FruitDataset(\"./test_zip/test\", transform=val_transform)"
      ],
      "execution_count": null,
      "outputs": []
    },
    {
      "cell_type": "code",
      "metadata": {
        "id": "2ps1EA92lNPc"
      },
      "source": [
        "train_dataloader = torch.utils.data.DataLoader(train_dataset, batch_size=2, shuffle=True, num_workers=4, collate_fn=collate_fn)\n",
        "val_dataloader = torch.utils.data.DataLoader(val_dataset, batch_size=1, shuffle=False, num_workers=4, collate_fn=collate_fn)"
      ],
      "execution_count": null,
      "outputs": []
    },
    {
      "cell_type": "code",
      "metadata": {
        "id": "-Khsnx2Ql3Qr"
      },
      "source": [
        "from torchvision.models.detection.faster_rcnn import FastRCNNPredictor\n",
        "from torchvision.models.detection import fasterrcnn_resnet50_fpn"
      ],
      "execution_count": null,
      "outputs": []
    },
    {
      "cell_type": "markdown",
      "metadata": {
        "id": "A-39iAMpmHjC"
      },
      "source": [
        "Используем предобученную модель Faster RCNN"
      ]
    },
    {
      "cell_type": "code",
      "metadata": {
        "id": "Mmo2TCH6l5cC"
      },
      "source": [
        "def get_detection_model(num_classes=2):\n",
        "    model = fasterrcnn_resnet50_fpn(pretrained=True)\n",
        "    in_features = model.roi_heads.box_predictor.cls_score.in_features\n",
        "    model.roi_heads.box_predictor = FastRCNNPredictor(in_features, num_classes)\n",
        "    return model"
      ],
      "execution_count": null,
      "outputs": []
    },
    {
      "cell_type": "markdown",
      "metadata": {
        "id": "hY-Wudl_wnFP"
      },
      "source": [
        "Имеем 4 класса, так есть ещё фон"
      ]
    },
    {
      "cell_type": "markdown",
      "metadata": {
        "id": "6P0gNypT1InW"
      },
      "source": [
        "В качестве оптимайзера возьмем SGD momentum"
      ]
    },
    {
      "cell_type": "code",
      "metadata": {
        "id": "vtJcsGAvl8tE",
        "colab": {
          "base_uri": "https://localhost:8080/",
          "height": 85,
          "referenced_widgets": [
            "733f20b2848c41929c0c8951da124067",
            "ba650d7705f44556bfda8a648205c749",
            "c9299e8f14b34a839883814a502ff8b5",
            "cf7ae7639aff4e6a83b7b8d437104f09",
            "af9569bd23834fcfafa738562287566e",
            "e27c94bb7e2b417da52a0396c7c8d028",
            "38a54d10d96c4209824e797afc31d6e5",
            "fd9ad2527f11412e9752f7f861749481"
          ]
        },
        "outputId": "6a325158-520f-455f-c946-82194ff56db1"
      },
      "source": [
        "device = torch.device(\"cuda:0\") if torch.cuda.is_available() else torch.device(\"cpu\")\n",
        "num_epochs = 8\n",
        "num_classes = 4\n",
        "model = get_detection_model(num_classes)\n",
        "model.to(device)\n",
        "optimizer = torch.optim.SGD(model.parameters(), lr=0.005, momentum=0.9, weight_decay=0.0005)"
      ],
      "execution_count": null,
      "outputs": [
        {
          "output_type": "stream",
          "text": [
            "Downloading: \"https://download.pytorch.org/models/fasterrcnn_resnet50_fpn_coco-258fb6c6.pth\" to /root/.cache/torch/hub/checkpoints/fasterrcnn_resnet50_fpn_coco-258fb6c6.pth\n"
          ],
          "name": "stderr"
        },
        {
          "output_type": "display_data",
          "data": {
            "application/vnd.jupyter.widget-view+json": {
              "model_id": "733f20b2848c41929c0c8951da124067",
              "version_minor": 0,
              "version_major": 2
            },
            "text/plain": [
              "HBox(children=(FloatProgress(value=0.0, max=167502836.0), HTML(value='')))"
            ]
          },
          "metadata": {
            "tags": []
          }
        },
        {
          "output_type": "stream",
          "text": [
            "\n"
          ],
          "name": "stdout"
        }
      ]
    },
    {
      "cell_type": "markdown",
      "metadata": {
        "id": "XOBCobIVDc7s"
      },
      "source": [
        "Запустим обучение"
      ]
    },
    {
      "cell_type": "code",
      "metadata": {
        "colab": {
          "base_uri": "https://localhost:8080/"
        },
        "id": "p4CVHPHrmUOZ",
        "outputId": "742d741f-597f-4605-f16b-df6075c8e0eb"
      },
      "source": [
        "train(model, num_epochs, train_dataloader, val_dataloader, optimizer, device)"
      ],
      "execution_count": null,
      "outputs": [
        {
          "output_type": "stream",
          "text": [
            "/usr/local/lib/python3.6/dist-packages/ipykernel_launcher.py:41: UserWarning: To copy construct from a tensor, it is recommended to use sourceTensor.clone().detach() or sourceTensor.clone().detach().requires_grad_(True), rather than torch.tensor(sourceTensor).\n",
            "/usr/local/lib/python3.6/dist-packages/ipykernel_launcher.py:41: UserWarning: To copy construct from a tensor, it is recommended to use sourceTensor.clone().detach() or sourceTensor.clone().detach().requires_grad_(True), rather than torch.tensor(sourceTensor).\n",
            "/usr/local/lib/python3.6/dist-packages/ipykernel_launcher.py:42: UserWarning: To copy construct from a tensor, it is recommended to use sourceTensor.clone().detach() or sourceTensor.clone().detach().requires_grad_(True), rather than torch.tensor(sourceTensor).\n",
            "/usr/local/lib/python3.6/dist-packages/ipykernel_launcher.py:42: UserWarning: To copy construct from a tensor, it is recommended to use sourceTensor.clone().detach() or sourceTensor.clone().detach().requires_grad_(True), rather than torch.tensor(sourceTensor).\n",
            "/usr/local/lib/python3.6/dist-packages/ipykernel_launcher.py:41: UserWarning: To copy construct from a tensor, it is recommended to use sourceTensor.clone().detach() or sourceTensor.clone().detach().requires_grad_(True), rather than torch.tensor(sourceTensor).\n",
            "/usr/local/lib/python3.6/dist-packages/ipykernel_launcher.py:42: UserWarning: To copy construct from a tensor, it is recommended to use sourceTensor.clone().detach() or sourceTensor.clone().detach().requires_grad_(True), rather than torch.tensor(sourceTensor).\n",
            "/usr/local/lib/python3.6/dist-packages/ipykernel_launcher.py:41: UserWarning: To copy construct from a tensor, it is recommended to use sourceTensor.clone().detach() or sourceTensor.clone().detach().requires_grad_(True), rather than torch.tensor(sourceTensor).\n",
            "/usr/local/lib/python3.6/dist-packages/ipykernel_launcher.py:42: UserWarning: To copy construct from a tensor, it is recommended to use sourceTensor.clone().detach() or sourceTensor.clone().detach().requires_grad_(True), rather than torch.tensor(sourceTensor).\n"
          ],
          "name": "stderr"
        },
        {
          "output_type": "stream",
          "text": [
            "AUC ON TEST: 0.0029185548597543643\n",
            "Loss value after 10 batches is 0.817\n",
            "Loss value after 20 batches is 0.579\n",
            "Loss value after 30 batches is 0.521\n",
            "Loss value after 40 batches is 0.47\n",
            "Loss value after 50 batches is 0.427\n",
            "Loss value after 60 batches is 0.411\n",
            "Loss value after 70 batches is 0.391\n",
            "Loss value after 80 batches is 0.375\n",
            "Loss value after 90 batches is 0.361\n",
            "Loss value after 100 batches is 0.346\n",
            "Loss value after 110 batches is 0.338\n",
            "Loss value after 120 batches is 0.332\n"
          ],
          "name": "stdout"
        },
        {
          "output_type": "stream",
          "text": [
            "/usr/local/lib/python3.6/dist-packages/ipykernel_launcher.py:41: UserWarning: To copy construct from a tensor, it is recommended to use sourceTensor.clone().detach() or sourceTensor.clone().detach().requires_grad_(True), rather than torch.tensor(sourceTensor).\n",
            "/usr/local/lib/python3.6/dist-packages/ipykernel_launcher.py:41: UserWarning: To copy construct from a tensor, it is recommended to use sourceTensor.clone().detach() or sourceTensor.clone().detach().requires_grad_(True), rather than torch.tensor(sourceTensor).\n",
            "/usr/local/lib/python3.6/dist-packages/ipykernel_launcher.py:41: UserWarning: To copy construct from a tensor, it is recommended to use sourceTensor.clone().detach() or sourceTensor.clone().detach().requires_grad_(True), rather than torch.tensor(sourceTensor).\n",
            "/usr/local/lib/python3.6/dist-packages/ipykernel_launcher.py:42: UserWarning: To copy construct from a tensor, it is recommended to use sourceTensor.clone().detach() or sourceTensor.clone().detach().requires_grad_(True), rather than torch.tensor(sourceTensor).\n",
            "/usr/local/lib/python3.6/dist-packages/ipykernel_launcher.py:42: UserWarning: To copy construct from a tensor, it is recommended to use sourceTensor.clone().detach() or sourceTensor.clone().detach().requires_grad_(True), rather than torch.tensor(sourceTensor).\n",
            "/usr/local/lib/python3.6/dist-packages/ipykernel_launcher.py:42: UserWarning: To copy construct from a tensor, it is recommended to use sourceTensor.clone().detach() or sourceTensor.clone().detach().requires_grad_(True), rather than torch.tensor(sourceTensor).\n",
            "/usr/local/lib/python3.6/dist-packages/ipykernel_launcher.py:41: UserWarning: To copy construct from a tensor, it is recommended to use sourceTensor.clone().detach() or sourceTensor.clone().detach().requires_grad_(True), rather than torch.tensor(sourceTensor).\n",
            "/usr/local/lib/python3.6/dist-packages/ipykernel_launcher.py:42: UserWarning: To copy construct from a tensor, it is recommended to use sourceTensor.clone().detach() or sourceTensor.clone().detach().requires_grad_(True), rather than torch.tensor(sourceTensor).\n"
          ],
          "name": "stderr"
        },
        {
          "output_type": "stream",
          "text": [
            "AUC ON TEST: 0.7074202671859102\n",
            "Loss value after 10 batches is 0.307\n",
            "Loss value after 20 batches is 0.26\n",
            "Loss value after 30 batches is 0.22\n",
            "Loss value after 40 batches is 0.225\n",
            "Loss value after 50 batches is 0.217\n",
            "Loss value after 60 batches is 0.222\n",
            "Loss value after 70 batches is 0.212\n",
            "Loss value after 80 batches is 0.214\n",
            "Loss value after 90 batches is 0.211\n",
            "Loss value after 100 batches is 0.214\n",
            "Loss value after 110 batches is 0.213\n",
            "Loss value after 120 batches is 0.208\n"
          ],
          "name": "stdout"
        },
        {
          "output_type": "stream",
          "text": [
            "/usr/local/lib/python3.6/dist-packages/ipykernel_launcher.py:41: UserWarning: To copy construct from a tensor, it is recommended to use sourceTensor.clone().detach() or sourceTensor.clone().detach().requires_grad_(True), rather than torch.tensor(sourceTensor).\n",
            "/usr/local/lib/python3.6/dist-packages/ipykernel_launcher.py:41: UserWarning: To copy construct from a tensor, it is recommended to use sourceTensor.clone().detach() or sourceTensor.clone().detach().requires_grad_(True), rather than torch.tensor(sourceTensor).\n",
            "/usr/local/lib/python3.6/dist-packages/ipykernel_launcher.py:42: UserWarning: To copy construct from a tensor, it is recommended to use sourceTensor.clone().detach() or sourceTensor.clone().detach().requires_grad_(True), rather than torch.tensor(sourceTensor).\n",
            "/usr/local/lib/python3.6/dist-packages/ipykernel_launcher.py:42: UserWarning: To copy construct from a tensor, it is recommended to use sourceTensor.clone().detach() or sourceTensor.clone().detach().requires_grad_(True), rather than torch.tensor(sourceTensor).\n",
            "/usr/local/lib/python3.6/dist-packages/ipykernel_launcher.py:41: UserWarning: To copy construct from a tensor, it is recommended to use sourceTensor.clone().detach() or sourceTensor.clone().detach().requires_grad_(True), rather than torch.tensor(sourceTensor).\n",
            "/usr/local/lib/python3.6/dist-packages/ipykernel_launcher.py:41: UserWarning: To copy construct from a tensor, it is recommended to use sourceTensor.clone().detach() or sourceTensor.clone().detach().requires_grad_(True), rather than torch.tensor(sourceTensor).\n",
            "/usr/local/lib/python3.6/dist-packages/ipykernel_launcher.py:42: UserWarning: To copy construct from a tensor, it is recommended to use sourceTensor.clone().detach() or sourceTensor.clone().detach().requires_grad_(True), rather than torch.tensor(sourceTensor).\n",
            "/usr/local/lib/python3.6/dist-packages/ipykernel_launcher.py:42: UserWarning: To copy construct from a tensor, it is recommended to use sourceTensor.clone().detach() or sourceTensor.clone().detach().requires_grad_(True), rather than torch.tensor(sourceTensor).\n"
          ],
          "name": "stderr"
        },
        {
          "output_type": "stream",
          "text": [
            "AUC ON TEST: 0.8781183556267351\n",
            "Loss value after 10 batches is 0.201\n",
            "Loss value after 20 batches is 0.214\n",
            "Loss value after 30 batches is 0.221\n",
            "Loss value after 40 batches is 0.215\n",
            "Loss value after 50 batches is 0.193\n",
            "Loss value after 60 batches is 0.191\n",
            "Loss value after 70 batches is 0.188\n",
            "Loss value after 80 batches is 0.186\n",
            "Loss value after 90 batches is 0.187\n",
            "Loss value after 100 batches is 0.182\n",
            "Loss value after 110 batches is 0.179\n",
            "Loss value after 120 batches is 0.179\n"
          ],
          "name": "stdout"
        },
        {
          "output_type": "stream",
          "text": [
            "/usr/local/lib/python3.6/dist-packages/ipykernel_launcher.py:41: UserWarning: To copy construct from a tensor, it is recommended to use sourceTensor.clone().detach() or sourceTensor.clone().detach().requires_grad_(True), rather than torch.tensor(sourceTensor).\n",
            "/usr/local/lib/python3.6/dist-packages/ipykernel_launcher.py:41: UserWarning: To copy construct from a tensor, it is recommended to use sourceTensor.clone().detach() or sourceTensor.clone().detach().requires_grad_(True), rather than torch.tensor(sourceTensor).\n",
            "/usr/local/lib/python3.6/dist-packages/ipykernel_launcher.py:42: UserWarning: To copy construct from a tensor, it is recommended to use sourceTensor.clone().detach() or sourceTensor.clone().detach().requires_grad_(True), rather than torch.tensor(sourceTensor).\n",
            "/usr/local/lib/python3.6/dist-packages/ipykernel_launcher.py:42: UserWarning: To copy construct from a tensor, it is recommended to use sourceTensor.clone().detach() or sourceTensor.clone().detach().requires_grad_(True), rather than torch.tensor(sourceTensor).\n",
            "/usr/local/lib/python3.6/dist-packages/ipykernel_launcher.py:41: UserWarning: To copy construct from a tensor, it is recommended to use sourceTensor.clone().detach() or sourceTensor.clone().detach().requires_grad_(True), rather than torch.tensor(sourceTensor).\n",
            "/usr/local/lib/python3.6/dist-packages/ipykernel_launcher.py:41: UserWarning: To copy construct from a tensor, it is recommended to use sourceTensor.clone().detach() or sourceTensor.clone().detach().requires_grad_(True), rather than torch.tensor(sourceTensor).\n",
            "/usr/local/lib/python3.6/dist-packages/ipykernel_launcher.py:42: UserWarning: To copy construct from a tensor, it is recommended to use sourceTensor.clone().detach() or sourceTensor.clone().detach().requires_grad_(True), rather than torch.tensor(sourceTensor).\n",
            "/usr/local/lib/python3.6/dist-packages/ipykernel_launcher.py:42: UserWarning: To copy construct from a tensor, it is recommended to use sourceTensor.clone().detach() or sourceTensor.clone().detach().requires_grad_(True), rather than torch.tensor(sourceTensor).\n"
          ],
          "name": "stderr"
        },
        {
          "output_type": "stream",
          "text": [
            "AUC ON TEST: 0.8901052832842615\n",
            "Loss value after 10 batches is 0.124\n",
            "Loss value after 20 batches is 0.146\n",
            "Loss value after 30 batches is 0.155\n",
            "Loss value after 40 batches is 0.163\n",
            "Loss value after 50 batches is 0.157\n",
            "Loss value after 60 batches is 0.149\n",
            "Loss value after 70 batches is 0.147\n",
            "Loss value after 80 batches is 0.147\n",
            "Loss value after 90 batches is 0.156\n",
            "Loss value after 100 batches is 0.154\n",
            "Loss value after 110 batches is 0.16\n",
            "Loss value after 120 batches is 0.16\n"
          ],
          "name": "stdout"
        },
        {
          "output_type": "stream",
          "text": [
            "/usr/local/lib/python3.6/dist-packages/ipykernel_launcher.py:41: UserWarning: To copy construct from a tensor, it is recommended to use sourceTensor.clone().detach() or sourceTensor.clone().detach().requires_grad_(True), rather than torch.tensor(sourceTensor).\n",
            "/usr/local/lib/python3.6/dist-packages/ipykernel_launcher.py:41: UserWarning: To copy construct from a tensor, it is recommended to use sourceTensor.clone().detach() or sourceTensor.clone().detach().requires_grad_(True), rather than torch.tensor(sourceTensor).\n",
            "/usr/local/lib/python3.6/dist-packages/ipykernel_launcher.py:42: UserWarning: To copy construct from a tensor, it is recommended to use sourceTensor.clone().detach() or sourceTensor.clone().detach().requires_grad_(True), rather than torch.tensor(sourceTensor).\n",
            "/usr/local/lib/python3.6/dist-packages/ipykernel_launcher.py:42: UserWarning: To copy construct from a tensor, it is recommended to use sourceTensor.clone().detach() or sourceTensor.clone().detach().requires_grad_(True), rather than torch.tensor(sourceTensor).\n",
            "/usr/local/lib/python3.6/dist-packages/ipykernel_launcher.py:41: UserWarning: To copy construct from a tensor, it is recommended to use sourceTensor.clone().detach() or sourceTensor.clone().detach().requires_grad_(True), rather than torch.tensor(sourceTensor).\n",
            "/usr/local/lib/python3.6/dist-packages/ipykernel_launcher.py:41: UserWarning: To copy construct from a tensor, it is recommended to use sourceTensor.clone().detach() or sourceTensor.clone().detach().requires_grad_(True), rather than torch.tensor(sourceTensor).\n",
            "/usr/local/lib/python3.6/dist-packages/ipykernel_launcher.py:42: UserWarning: To copy construct from a tensor, it is recommended to use sourceTensor.clone().detach() or sourceTensor.clone().detach().requires_grad_(True), rather than torch.tensor(sourceTensor).\n",
            "/usr/local/lib/python3.6/dist-packages/ipykernel_launcher.py:42: UserWarning: To copy construct from a tensor, it is recommended to use sourceTensor.clone().detach() or sourceTensor.clone().detach().requires_grad_(True), rather than torch.tensor(sourceTensor).\n"
          ],
          "name": "stderr"
        },
        {
          "output_type": "stream",
          "text": [
            "AUC ON TEST: 0.9123165773742877\n",
            "Loss value after 10 batches is 0.197\n",
            "Loss value after 20 batches is 0.194\n",
            "Loss value after 30 batches is 0.187\n",
            "Loss value after 40 batches is 0.169\n",
            "Loss value after 50 batches is 0.162\n",
            "Loss value after 60 batches is 0.157\n",
            "Loss value after 70 batches is 0.155\n",
            "Loss value after 80 batches is 0.163\n",
            "Loss value after 90 batches is 0.159\n",
            "Loss value after 100 batches is 0.159\n",
            "Loss value after 110 batches is 0.158\n",
            "Loss value after 120 batches is 0.155\n"
          ],
          "name": "stdout"
        },
        {
          "output_type": "stream",
          "text": [
            "/usr/local/lib/python3.6/dist-packages/ipykernel_launcher.py:41: UserWarning: To copy construct from a tensor, it is recommended to use sourceTensor.clone().detach() or sourceTensor.clone().detach().requires_grad_(True), rather than torch.tensor(sourceTensor).\n",
            "/usr/local/lib/python3.6/dist-packages/ipykernel_launcher.py:41: UserWarning: To copy construct from a tensor, it is recommended to use sourceTensor.clone().detach() or sourceTensor.clone().detach().requires_grad_(True), rather than torch.tensor(sourceTensor).\n",
            "/usr/local/lib/python3.6/dist-packages/ipykernel_launcher.py:42: UserWarning: To copy construct from a tensor, it is recommended to use sourceTensor.clone().detach() or sourceTensor.clone().detach().requires_grad_(True), rather than torch.tensor(sourceTensor).\n",
            "/usr/local/lib/python3.6/dist-packages/ipykernel_launcher.py:41: UserWarning: To copy construct from a tensor, it is recommended to use sourceTensor.clone().detach() or sourceTensor.clone().detach().requires_grad_(True), rather than torch.tensor(sourceTensor).\n",
            "/usr/local/lib/python3.6/dist-packages/ipykernel_launcher.py:42: UserWarning: To copy construct from a tensor, it is recommended to use sourceTensor.clone().detach() or sourceTensor.clone().detach().requires_grad_(True), rather than torch.tensor(sourceTensor).\n",
            "/usr/local/lib/python3.6/dist-packages/ipykernel_launcher.py:42: UserWarning: To copy construct from a tensor, it is recommended to use sourceTensor.clone().detach() or sourceTensor.clone().detach().requires_grad_(True), rather than torch.tensor(sourceTensor).\n",
            "/usr/local/lib/python3.6/dist-packages/ipykernel_launcher.py:41: UserWarning: To copy construct from a tensor, it is recommended to use sourceTensor.clone().detach() or sourceTensor.clone().detach().requires_grad_(True), rather than torch.tensor(sourceTensor).\n",
            "/usr/local/lib/python3.6/dist-packages/ipykernel_launcher.py:42: UserWarning: To copy construct from a tensor, it is recommended to use sourceTensor.clone().detach() or sourceTensor.clone().detach().requires_grad_(True), rather than torch.tensor(sourceTensor).\n"
          ],
          "name": "stderr"
        },
        {
          "output_type": "stream",
          "text": [
            "AUC ON TEST: 0.9053899210403812\n",
            "Loss value after 10 batches is 0.115\n",
            "Loss value after 20 batches is 0.111\n",
            "Loss value after 30 batches is 0.114\n",
            "Loss value after 40 batches is 0.109\n",
            "Loss value after 50 batches is 0.119\n",
            "Loss value after 60 batches is 0.122\n",
            "Loss value after 70 batches is 0.128\n",
            "Loss value after 80 batches is 0.134\n",
            "Loss value after 90 batches is 0.137\n",
            "Loss value after 100 batches is 0.138\n",
            "Loss value after 110 batches is 0.139\n",
            "Loss value after 120 batches is 0.136\n"
          ],
          "name": "stdout"
        },
        {
          "output_type": "stream",
          "text": [
            "/usr/local/lib/python3.6/dist-packages/ipykernel_launcher.py:41: UserWarning: To copy construct from a tensor, it is recommended to use sourceTensor.clone().detach() or sourceTensor.clone().detach().requires_grad_(True), rather than torch.tensor(sourceTensor).\n",
            "/usr/local/lib/python3.6/dist-packages/ipykernel_launcher.py:41: UserWarning: To copy construct from a tensor, it is recommended to use sourceTensor.clone().detach() or sourceTensor.clone().detach().requires_grad_(True), rather than torch.tensor(sourceTensor).\n",
            "/usr/local/lib/python3.6/dist-packages/ipykernel_launcher.py:41: UserWarning: To copy construct from a tensor, it is recommended to use sourceTensor.clone().detach() or sourceTensor.clone().detach().requires_grad_(True), rather than torch.tensor(sourceTensor).\n",
            "/usr/local/lib/python3.6/dist-packages/ipykernel_launcher.py:41: UserWarning: To copy construct from a tensor, it is recommended to use sourceTensor.clone().detach() or sourceTensor.clone().detach().requires_grad_(True), rather than torch.tensor(sourceTensor).\n",
            "/usr/local/lib/python3.6/dist-packages/ipykernel_launcher.py:42: UserWarning: To copy construct from a tensor, it is recommended to use sourceTensor.clone().detach() or sourceTensor.clone().detach().requires_grad_(True), rather than torch.tensor(sourceTensor).\n",
            "/usr/local/lib/python3.6/dist-packages/ipykernel_launcher.py:42: UserWarning: To copy construct from a tensor, it is recommended to use sourceTensor.clone().detach() or sourceTensor.clone().detach().requires_grad_(True), rather than torch.tensor(sourceTensor).\n",
            "/usr/local/lib/python3.6/dist-packages/ipykernel_launcher.py:42: UserWarning: To copy construct from a tensor, it is recommended to use sourceTensor.clone().detach() or sourceTensor.clone().detach().requires_grad_(True), rather than torch.tensor(sourceTensor).\n",
            "/usr/local/lib/python3.6/dist-packages/ipykernel_launcher.py:42: UserWarning: To copy construct from a tensor, it is recommended to use sourceTensor.clone().detach() or sourceTensor.clone().detach().requires_grad_(True), rather than torch.tensor(sourceTensor).\n"
          ],
          "name": "stderr"
        },
        {
          "output_type": "stream",
          "text": [
            "AUC ON TEST: 0.9294767378810944\n",
            "Loss value after 10 batches is 0.132\n",
            "Loss value after 20 batches is 0.148\n",
            "Loss value after 30 batches is 0.133\n",
            "Loss value after 40 batches is 0.14\n",
            "Loss value after 50 batches is 0.136\n",
            "Loss value after 60 batches is 0.137\n",
            "Loss value after 70 batches is 0.134\n",
            "Loss value after 80 batches is 0.131\n",
            "Loss value after 90 batches is 0.132\n",
            "Loss value after 100 batches is 0.128\n",
            "Loss value after 110 batches is 0.131\n",
            "Loss value after 120 batches is 0.133\n"
          ],
          "name": "stdout"
        },
        {
          "output_type": "stream",
          "text": [
            "/usr/local/lib/python3.6/dist-packages/ipykernel_launcher.py:41: UserWarning: To copy construct from a tensor, it is recommended to use sourceTensor.clone().detach() or sourceTensor.clone().detach().requires_grad_(True), rather than torch.tensor(sourceTensor).\n",
            "/usr/local/lib/python3.6/dist-packages/ipykernel_launcher.py:41: UserWarning: To copy construct from a tensor, it is recommended to use sourceTensor.clone().detach() or sourceTensor.clone().detach().requires_grad_(True), rather than torch.tensor(sourceTensor).\n",
            "/usr/local/lib/python3.6/dist-packages/ipykernel_launcher.py:42: UserWarning: To copy construct from a tensor, it is recommended to use sourceTensor.clone().detach() or sourceTensor.clone().detach().requires_grad_(True), rather than torch.tensor(sourceTensor).\n",
            "/usr/local/lib/python3.6/dist-packages/ipykernel_launcher.py:42: UserWarning: To copy construct from a tensor, it is recommended to use sourceTensor.clone().detach() or sourceTensor.clone().detach().requires_grad_(True), rather than torch.tensor(sourceTensor).\n",
            "/usr/local/lib/python3.6/dist-packages/ipykernel_launcher.py:41: UserWarning: To copy construct from a tensor, it is recommended to use sourceTensor.clone().detach() or sourceTensor.clone().detach().requires_grad_(True), rather than torch.tensor(sourceTensor).\n",
            "/usr/local/lib/python3.6/dist-packages/ipykernel_launcher.py:41: UserWarning: To copy construct from a tensor, it is recommended to use sourceTensor.clone().detach() or sourceTensor.clone().detach().requires_grad_(True), rather than torch.tensor(sourceTensor).\n",
            "/usr/local/lib/python3.6/dist-packages/ipykernel_launcher.py:42: UserWarning: To copy construct from a tensor, it is recommended to use sourceTensor.clone().detach() or sourceTensor.clone().detach().requires_grad_(True), rather than torch.tensor(sourceTensor).\n",
            "/usr/local/lib/python3.6/dist-packages/ipykernel_launcher.py:42: UserWarning: To copy construct from a tensor, it is recommended to use sourceTensor.clone().detach() or sourceTensor.clone().detach().requires_grad_(True), rather than torch.tensor(sourceTensor).\n"
          ],
          "name": "stderr"
        },
        {
          "output_type": "stream",
          "text": [
            "AUC ON TEST: 0.9116630784398949\n",
            "Loss value after 10 batches is 0.105\n",
            "Loss value after 20 batches is 0.111\n",
            "Loss value after 30 batches is 0.115\n",
            "Loss value after 40 batches is 0.112\n",
            "Loss value after 50 batches is 0.119\n",
            "Loss value after 60 batches is 0.121\n",
            "Loss value after 70 batches is 0.123\n",
            "Loss value after 80 batches is 0.123\n",
            "Loss value after 90 batches is 0.125\n",
            "Loss value after 100 batches is 0.126\n",
            "Loss value after 110 batches is 0.129\n",
            "Loss value after 120 batches is 0.129\n"
          ],
          "name": "stdout"
        }
      ]
    },
    {
      "cell_type": "markdown",
      "metadata": {
        "id": "sPF-B6gdlV6K"
      },
      "source": [
        "__Выведите итоговое качество модели__."
      ]
    },
    {
      "cell_type": "code",
      "metadata": {
        "id": "5I4qYYumlV6K",
        "colab": {
          "base_uri": "https://localhost:8080/"
        },
        "outputId": "99b14940-6ea1-41cc-afef-71cbab109ff7"
      },
      "source": [
        "auc = evaluate(model, val_dataloader, device)\n",
        "print(\"Оценка за это задание составит {} баллов\".format(min(4, 4 * auc / 0.91)))"
      ],
      "execution_count": null,
      "outputs": [
        {
          "output_type": "stream",
          "text": [
            "/usr/local/lib/python3.6/dist-packages/ipykernel_launcher.py:41: UserWarning: To copy construct from a tensor, it is recommended to use sourceTensor.clone().detach() or sourceTensor.clone().detach().requires_grad_(True), rather than torch.tensor(sourceTensor).\n",
            "/usr/local/lib/python3.6/dist-packages/ipykernel_launcher.py:42: UserWarning: To copy construct from a tensor, it is recommended to use sourceTensor.clone().detach() or sourceTensor.clone().detach().requires_grad_(True), rather than torch.tensor(sourceTensor).\n",
            "/usr/local/lib/python3.6/dist-packages/ipykernel_launcher.py:41: UserWarning: To copy construct from a tensor, it is recommended to use sourceTensor.clone().detach() or sourceTensor.clone().detach().requires_grad_(True), rather than torch.tensor(sourceTensor).\n",
            "/usr/local/lib/python3.6/dist-packages/ipykernel_launcher.py:41: UserWarning: To copy construct from a tensor, it is recommended to use sourceTensor.clone().detach() or sourceTensor.clone().detach().requires_grad_(True), rather than torch.tensor(sourceTensor).\n",
            "/usr/local/lib/python3.6/dist-packages/ipykernel_launcher.py:42: UserWarning: To copy construct from a tensor, it is recommended to use sourceTensor.clone().detach() or sourceTensor.clone().detach().requires_grad_(True), rather than torch.tensor(sourceTensor).\n",
            "/usr/local/lib/python3.6/dist-packages/ipykernel_launcher.py:42: UserWarning: To copy construct from a tensor, it is recommended to use sourceTensor.clone().detach() or sourceTensor.clone().detach().requires_grad_(True), rather than torch.tensor(sourceTensor).\n",
            "/usr/local/lib/python3.6/dist-packages/ipykernel_launcher.py:41: UserWarning: To copy construct from a tensor, it is recommended to use sourceTensor.clone().detach() or sourceTensor.clone().detach().requires_grad_(True), rather than torch.tensor(sourceTensor).\n",
            "/usr/local/lib/python3.6/dist-packages/ipykernel_launcher.py:42: UserWarning: To copy construct from a tensor, it is recommended to use sourceTensor.clone().detach() or sourceTensor.clone().detach().requires_grad_(True), rather than torch.tensor(sourceTensor).\n"
          ],
          "name": "stderr"
        },
        {
          "output_type": "stream",
          "text": [
            "Оценка за это задание составит 3.9684192125714883 баллов\n"
          ],
          "name": "stdout"
        }
      ]
    },
    {
      "cell_type": "markdown",
      "metadata": {
        "id": "iEgALIjnlV6K"
      },
      "source": [
        "Нарисуйте предсказанные bounding box'ы для любых двух картинок из __тестового__ датасета."
      ]
    },
    {
      "cell_type": "code",
      "metadata": {
        "id": "-XEscjUPlV6K"
      },
      "source": [
        "image, labels = next(iter(train_dataset))\n",
        "pred = model(image.unsqueeze(0).to(device))[0]"
      ],
      "execution_count": null,
      "outputs": []
    },
    {
      "cell_type": "code",
      "metadata": {
        "id": "lNdToQpnnYdT"
      },
      "source": [
        "from torchvision import transforms"
      ],
      "execution_count": null,
      "outputs": []
    },
    {
      "cell_type": "code",
      "metadata": {
        "id": "OwLgeJ-hlV6K",
        "colab": {
          "base_uri": "https://localhost:8080/",
          "height": 370
        },
        "outputId": "aa085047-d1c5-4f2e-ef31-c45149a89efe"
      },
      "source": [
        "from PIL import ImageDraw\n",
        "\n",
        "image = torchvision.transforms.ToPILImage()(image)\n",
        "draw = ImageDraw.Draw(image)\n",
        "for box in labels['boxes']:\n",
        "    draw.rectangle([(box[0], box[1]), (box[2], box[3])])\n",
        "    \n",
        "for box in pred['boxes']:\n",
        "    draw.rectangle([(box[0], box[1]), (box[2], box[3])], outline='red')\n",
        "image"
      ],
      "execution_count": null,
      "outputs": [
        {
          "output_type": "execute_result",
          "data": {
            "image/png": "[encoded data removed]",
            "text/plain": [
              "<PIL.Image.Image image mode=RGB size=450x353 at 0x7FA389BA7F98>"
            ]
          },
          "metadata": {
            "tags": []
          },
          "execution_count": 24
        }
      ]
    }
  ]
}